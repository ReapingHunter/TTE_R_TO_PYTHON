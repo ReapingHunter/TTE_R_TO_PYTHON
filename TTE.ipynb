{
 "cells": [
  {
   "cell_type": "markdown",
   "metadata": {},
   "source": [
    "# Trial Analysis Notebook\n",
    "\n",
    "This notebook demonstrates a simplified analysis pipeline for trial data. The workflow includes:\n",
    "\n",
    "- Setting up directories\n",
    "- Creating dummy (simulated) trial data\n",
    "- Defining trial objects and configuring weight models\n",
    "- Calculating weights for the trial data\n",
    "- Fitting an outcome model (using a Cox proportional hazards model)\n",
    "- Expanding the trial data\n",
    "- Fitting a marginal structural model (MSM)\n",
    "- Predicting survival and plotting survival differences\n",
    "\n",
    "Each section is broken into separate cells with detailed documentation."
   ]
  },
  {
   "cell_type": "code",
   "execution_count": 28,
   "metadata": {},
   "outputs": [
    {
     "name": "stdout",
     "output_type": "stream",
     "text": [
      "Libraries imported successfully!\n"
     ]
    }
   ],
   "source": [
    "import os\n",
    "import numpy as np\n",
    "import pandas as pd\n",
    "import statsmodels.api as sm\n",
    "from lifelines import CoxPHFitter\n",
    "import matplotlib.pyplot as plt\n",
    "\n",
    "# Enable inline plotting for notebooks\n",
    "%matplotlib inline\n",
    "\n",
    "print('Libraries imported successfully!')"
   ]
  },
  {
   "cell_type": "markdown",
   "metadata": {},
   "source": [
    "## 1. Set-up Directories\n",
    "\n",
    "We set up two directories for the per-protocol trial (`trial_pp`) and the intention-to-treat trial (`trial_itt`). These directories are created in a temporary directory."
   ]
  },
  {
   "cell_type": "code",
   "execution_count": 29,
   "metadata": {},
   "outputs": [
    {
     "name": "stdout",
     "output_type": "stream",
     "text": [
      "Directories created:\n",
      "Per-protocol trial directory: /tmp\\trial_pp\n",
      "ITT trial directory: /tmp\\trial_itt\n"
     ]
    }
   ],
   "source": [
    "trial_pp_dir = os.path.join(os.getenv(\"TMPDIR\", \"/tmp\"), \"trial_pp\")\n",
    "os.makedirs(trial_pp_dir, exist_ok=True)\n",
    "trial_itt_dir = os.path.join(os.getenv(\"TMPDIR\", \"/tmp\"), \"trial_itt\")\n",
    "os.makedirs(trial_itt_dir, exist_ok=True)\n",
    "\n",
    "print('Directories created:')\n",
    "print('Per-protocol trial directory:', trial_pp_dir)\n",
    "print('ITT trial directory:', trial_itt_dir)"
   ]
  },
  {
   "cell_type": "markdown",
   "metadata": {},
   "source": [
    "## 2. Create Dummy Data\n",
    "\n",
    "Here we create a dummy dataset named `data_censored` to simulate trial data. This dataset contains various columns such as `id`, `period`, `treatment`, `outcome`, `eligible`, and several covariates. The data is generated using NumPy's random functions."
   ]
  },
  {
   "cell_type": "code",
   "execution_count": 30,
   "metadata": {},
   "outputs": [
    {
     "name": "stdout",
     "output_type": "stream",
     "text": [
      "Dummy data head:\n",
      "   id  period  treatment  outcome  eligible        age        x1        x3  \\\n",
      "0   1       1          0        0         1  60.599364 -0.519396 -2.036221   \n",
      "1   1       2          1        0         1  56.170059 -0.340908  0.047493   \n",
      "2   1       3          1        0         0  56.835693  0.428317 -0.249072   \n",
      "3   1       4          1        0         1  36.340443  0.077156 -1.672894   \n",
      "4   1       5          0        0         1  62.119440 -0.593811  0.404213   \n",
      "\n",
      "         x2  censored  \n",
      "0  0.613771         0  \n",
      "1  0.375456         0  \n",
      "2  0.167570         0  \n",
      "3  1.162260         0  \n",
      "4 -0.539591         0  \n"
     ]
    }
   ],
   "source": [
    "# ---------------------------\n",
    "# 2. Create Dummy Data (data_censored)\n",
    "# ---------------------------\n",
    "np.random.seed(42)\n",
    "n_total = 1000\n",
    "n_patients = n_total // 10  # assume 10 periods per patient\n",
    "\n",
    "data_censored = pd.DataFrame({\n",
    "    \"id\": np.repeat(np.arange(1, n_patients + 1), 10),\n",
    "    \"period\": np.tile(np.arange(1, 11), n_patients),\n",
    "    \"treatment\": np.random.binomial(1, 0.5, n_total),\n",
    "    \"outcome\": np.random.binomial(1, 0.1, n_total),\n",
    "    \"eligible\": np.random.binomial(1, 0.8, n_total),\n",
    "    \"age\": np.random.normal(50, 10, n_total),\n",
    "    \"x1\": np.random.normal(0, 1, n_total),\n",
    "    \"x3\": np.random.normal(0, 1, n_total),\n",
    "    \"x2\": np.random.normal(0, 1, n_total),\n",
    "    \"censored\": np.random.binomial(1, 0.05, n_total)\n",
    "})\n",
    "print('Dummy data head:')\n",
    "print(data_censored.head())"
   ]
  },
  {
   "cell_type": "markdown",
   "metadata": {},
   "source": [
    "## 3. Define Trial Objects\n",
    "\n",
    "We define two trial objects, one for a per-protocol analysis (`trial_pp`) and one for an intention-to-treat analysis (`trial_itt`). In this example, we store the data and estimand information in dictionaries."
   ]
  },
  {
   "cell_type": "code",
   "execution_count": 31,
   "metadata": {},
   "outputs": [
    {
     "name": "stdout",
     "output_type": "stream",
     "text": [
      "Trial objects created with estimands:\n",
      "trial_pp: PP\n",
      "trial_itt: ITT\n"
     ]
    }
   ],
   "source": [
    "# ---------------------------\n",
    "# 3. Define “Trial” Objects\n",
    "# ---------------------------\n",
    "trial_pp = {\"estimand\": \"PP\", \"data\": data_censored.copy()}\n",
    "trial_itt = {\"estimand\": \"ITT\", \"data\": data_censored.copy()}\n",
    "\n",
    "print('Trial objects created with estimands:')\n",
    "print('trial_pp:', trial_pp['estimand'])\n",
    "print('trial_itt:', trial_itt['estimand'])"
   ]
  },
  {
   "cell_type": "markdown",
   "metadata": {},
   "source": [
    "## 4. Set Weight Models\n",
    "\n",
    "We define placeholder functions for setting up switch weight models and censor weight models. These functions store formulas and the save path in the trial object. Later on, you might replace these placeholders with the actual modeling steps.\n"
   ]
  },
  {
   "cell_type": "code",
   "execution_count": 32,
   "metadata": {},
   "outputs": [
    {
     "name": "stdout",
     "output_type": "stream",
     "text": [
      "trial_pp switch weight model: {'numerator_formula': 'age', 'denominator_formula': 'age + x1 + x3', 'save_path': '/tmp\\\\trial_pp\\\\switch_models'}\n",
      "trial_pp censor weight model: {'censor_event': 'censored', 'numerator_formula': 'x2', 'denominator_formula': 'x2 + x1', 'pool_models': 'none', 'save_path': '/tmp\\\\trial_pp\\\\switch_models'}\n",
      "trial_itt censor weight model: {'censor_event': 'censored', 'numerator_formula': 'x2', 'denominator_formula': 'x2 + x1', 'pool_models': 'numerator', 'save_path': '/tmp\\\\trial_itt\\\\switch_models'}\n"
     ]
    }
   ],
   "source": [
    "# ---------------------------\n",
    "# 4. Set Weight Models (Placeholders)\n",
    "# ---------------------------\n",
    "def set_switch_weight_model(trial, numerator_formula, denominator_formula, save_path):\n",
    "    # Placeholder: store formulas and save path\n",
    "    trial['switch_weight_model'] = {\n",
    "        \"numerator_formula\": numerator_formula,\n",
    "        \"denominator_formula\": denominator_formula,\n",
    "        \"save_path\": save_path\n",
    "    }\n",
    "    return trial\n",
    "\n",
    "def set_censor_weight_model(trial, censor_event, numerator_formula, denominator_formula, pool_models, save_path):\n",
    "    trial['censor_weight_model'] = {\n",
    "        \"censor_event\": censor_event,\n",
    "        \"numerator_formula\": numerator_formula,\n",
    "        \"denominator_formula\": denominator_formula,\n",
    "        \"pool_models\": pool_models,\n",
    "        \"save_path\": save_path\n",
    "    }\n",
    "    return trial\n",
    "\n",
    "# For Per-protocol trial (trial_pp)\n",
    "trial_pp = set_switch_weight_model(\n",
    "    trial_pp,\n",
    "    numerator_formula=\"age\",\n",
    "    denominator_formula=\"age + x1 + x3\",\n",
    "    save_path=os.path.join(trial_pp_dir, \"switch_models\")\n",
    ")\n",
    "print(\"trial_pp switch weight model:\", trial_pp.get(\"switch_weight_model\"))\n",
    "\n",
    "trial_pp = set_censor_weight_model(\n",
    "    trial_pp,\n",
    "    censor_event=\"censored\",\n",
    "    numerator_formula=\"x2\",\n",
    "    denominator_formula=\"x2 + x1\",\n",
    "    pool_models=\"none\",\n",
    "    save_path=os.path.join(trial_pp_dir, \"switch_models\")\n",
    ")\n",
    "print(\"trial_pp censor weight model:\", trial_pp.get(\"censor_weight_model\"))\n",
    "\n",
    "# For ITT trial (trial_itt)\n",
    "trial_itt = set_censor_weight_model(\n",
    "    trial_itt,\n",
    "    censor_event=\"censored\",\n",
    "    numerator_formula=\"x2\",\n",
    "    denominator_formula=\"x2 + x1\",\n",
    "    pool_models=\"numerator\",\n",
    "    save_path=os.path.join(trial_itt_dir, \"switch_models\")\n",
    ")\n",
    "print(\"trial_itt censor weight model:\", trial_itt.get(\"censor_weight_model\"))"
   ]
  },
  {
   "cell_type": "markdown",
   "metadata": {},
   "source": [
    "## 5. Calculate Weights (Simulation)\n",
    "\n",
    "In real applications, weights would be estimated by fitting the specified models. Here, we simply simulate weight values and add them as new columns to our trial data.\n"
   ]
  },
  {
   "cell_type": "code",
   "execution_count": 33,
   "metadata": {},
   "outputs": [
    {
     "name": "stdout",
     "output_type": "stream",
     "text": [
      "trial_pp weights added:      weight  sample_weight\n",
      "0  0.888044       1.005354\n",
      "1  0.880469       0.963343\n",
      "2  1.169000       0.951632\n",
      "3  1.141066       0.907549\n",
      "4  1.109953       1.016639\n",
      "trial_itt weights added:      weight  sample_weight\n",
      "0  0.866817       0.924776\n",
      "1  1.087058       1.012888\n",
      "2  1.101991       1.090460\n",
      "3  0.835590       1.058599\n",
      "4  1.144500       1.015740\n"
     ]
    }
   ],
   "source": [
    "# ---------------------------\n",
    "# 5. Calculate Weights (Simulation)\n",
    "# ---------------------------\n",
    "def calculate_weights(trial):\n",
    "    # Dummy weight estimation\n",
    "    trial['data']['weight'] = np.random.uniform(0.8, 1.2, len(trial['data']))\n",
    "    trial['data']['sample_weight'] = np.random.uniform(0.9, 1.1, len(trial['data']))\n",
    "    return trial\n",
    "\n",
    "trial_pp = calculate_weights(trial_pp)\n",
    "trial_itt = calculate_weights(trial_itt)\n",
    "\n",
    "print(\"trial_pp weights added:\", trial_pp['data'][['weight', 'sample_weight']].head())\n",
    "print(\"trial_itt weights added:\", trial_itt['data'][['weight', 'sample_weight']].head())"
   ]
  },
  {
   "cell_type": "markdown",
   "metadata": {},
   "source": [
    "## 6. Set Outcome Model\n",
    "\n",
    "We now define a function to fit an outcome model using a Cox proportional hazards model from the `lifelines` package. This model uses `period` as the duration variable and `outcome` as the event indicator. Optionally, adjustment terms can be added."
   ]
  },
  {
   "cell_type": "code",
   "execution_count": 34,
   "metadata": {},
   "outputs": [],
   "source": [
    "# ---------------------------\n",
    "# 6. Set Outcome Model\n",
    "# ---------------------------\n",
    "def set_outcome_model(trial, adjustment_terms=None):\n",
    "    # Fit a Cox proportional hazards model\n",
    "    cph = CoxPHFitter()\n",
    "    df = trial['data']\n",
    "    \n",
    "    # Use 'treatment' as the main predictor; add adjustments if provided\n",
    "    predictors = ['treatment']\n",
    "    if adjustment_terms:\n",
    "        # Simplified parsing of adjustment formula (e.g. \"~ x2\")\n",
    "        adjustments = adjustment_terms.replace(\"~\", \"\").strip().split(\" + \")\n",
    "        predictors += adjustments\n",
    "    \n",
    "    # Prepare the model dataframe\n",
    "    cols = ['period', 'outcome'] + predictors\n",
    "    df_model = df[cols].dropna()\n",
    "    \n",
    "    try:\n",
    "        cph.fit(df_model, duration_col='period', event_col='outcome')\n",
    "    except Exception as e:\n",
    "        print(\"Outcome model fitting error:\", e)\n",
    "    \n",
    "    trial['outcome_model'] = cph\n",
    "    return trial\n",
    "\n",
    "trial_pp = set_outcome_model(trial_pp)\n",
    "trial_itt = set_outcome_model(trial_itt, adjustment_terms=\"~ x2\")"
   ]
  },
  {
   "cell_type": "markdown",
   "metadata": {},
   "source": [
    "## 7. Set Expansion Options & Expand Trials\n",
    "\n",
    "In this section, we define functions to set expansion options and then expand the trial data. This simulates restructuring or replicating the data. We also include a dummy function to load the expanded data with an added control flag.\n"
   ]
  },
  {
   "cell_type": "code",
   "execution_count": 35,
   "metadata": {},
   "outputs": [
    {
     "name": "stdout",
     "output_type": "stream",
     "text": [
      "Expanded trial_pp data shape: (1000, 12)\n"
     ]
    }
   ],
   "source": [
    "# ---------------------------\n",
    "# 7. Set Expansion Options & Expand Trials\n",
    "# ---------------------------\n",
    "def set_expansion_options(trial, output, chunk_size):\n",
    "    trial['expansion_options'] = {\"output\": output, \"chunk_size\": chunk_size}\n",
    "    return trial\n",
    "\n",
    "def save_to_datatable():\n",
    "    # Dummy function: in practice, this might store data in a specific format\n",
    "    return lambda df: df  # identity function\n",
    "\n",
    "trial_pp = set_expansion_options(trial_pp, output=save_to_datatable(), chunk_size=500)\n",
    "trial_itt = set_expansion_options(trial_itt, output=save_to_datatable(), chunk_size=500)\n",
    "\n",
    "def expand_trials(trial):\n",
    "    # For this example, simply store the original data as \"expanded.\"\n",
    "    trial['expansion'] = trial['data']\n",
    "    return trial\n",
    "\n",
    "trial_pp = expand_trials(trial_pp)\n",
    "trial_itt = expand_trials(trial_itt)\n",
    "print(\"Expanded trial_pp data shape:\", trial_pp['expansion'].shape)\n",
    "\n",
    "def load_expanded_data(trial, seed=1234, p_control=0.5):\n",
    "    np.random.seed(seed)\n",
    "    df = trial['expansion'].copy()\n",
    "    df['control_flag'] = np.random.binomial(1, p_control, len(df))\n",
    "    trial['expansion'] = df\n",
    "    return trial\n",
    "\n",
    "trial_itt = load_expanded_data(trial_itt, seed=1234, p_control=0.5)"
   ]
  },
  {
   "cell_type": "markdown",
   "metadata": {},
   "source": [
    "## 8. Fit Marginal Structural Model (MSM)\n",
    "\n",
    "We now fit a marginal structural model. In this example, we modify the weights (using a winsorization function) and then fit a weighted Cox model as a placeholder for MSM fitting.\n"
   ]
  },
  {
   "cell_type": "code",
   "execution_count": 36,
   "metadata": {},
   "outputs": [
    {
     "name": "stdout",
     "output_type": "stream",
     "text": [
      "MSM outcome model summary for trial_itt:\n",
      "                   coef  exp(coef)  se(coef)  coef lower 95%  coef upper 95%  \\\n",
      "covariate                                                                      \n",
      "id            -0.005216   0.994797  0.003551       -0.012176        0.001744   \n",
      "treatment      0.018192   1.018358  0.204202       -0.382037        0.418420   \n",
      "eligible      -0.356717   0.699971  0.239739       -0.826596        0.113162   \n",
      "age            0.006446   1.006467  0.010569       -0.014269        0.027160   \n",
      "x1            -0.065835   0.936285  0.104528       -0.270706        0.139036   \n",
      "x3             0.054230   1.055728  0.106458       -0.154423        0.262883   \n",
      "x2            -0.013176   0.986911  0.102102       -0.213292        0.186940   \n",
      "censored       0.392919   1.481299  0.403516       -0.397957        1.183796   \n",
      "weight        -0.479594   0.619035  0.878941       -2.202287        1.243100   \n",
      "sample_weight -1.884117   0.151963  1.751999       -5.317972        1.549737   \n",
      "\n",
      "               exp(coef) lower 95%  exp(coef) upper 95%  cmp to         z  \\\n",
      "covariate                                                                   \n",
      "id                        0.987898             1.001745     0.0 -1.468904   \n",
      "treatment                 0.682470             1.519559     0.0  0.089087   \n",
      "eligible                  0.437536             1.119814     0.0 -1.487940   \n",
      "age                       0.985832             1.027533     0.0  0.609883   \n",
      "x1                        0.762840             1.149165     0.0 -0.629834   \n",
      "x3                        0.856909             1.300675     0.0  0.509406   \n",
      "x2                        0.807920             1.205556     0.0 -0.129046   \n",
      "censored                  0.671691             3.266752     0.0  0.973739   \n",
      "weight                    0.110550             3.466342     0.0 -0.545649   \n",
      "sample_weight             0.004903             4.710232     0.0 -1.075410   \n",
      "\n",
      "                      p  -log2(p)  \n",
      "covariate                          \n",
      "id             0.141859  2.817472  \n",
      "treatment      0.929013  0.106229  \n",
      "eligible       0.136767  2.870210  \n",
      "age            0.541940  0.883796  \n",
      "x1             0.528803  0.919196  \n",
      "x3             0.610468  0.712013  \n",
      "x2             0.897321  0.156303  \n",
      "censored       0.330186  1.598650  \n",
      "weight         0.585307  0.772734  \n",
      "sample_weight  0.282191  1.825256  \n"
     ]
    },
    {
     "name": "stderr",
     "output_type": "stream",
     "text": [
      "c:\\Users\\ADMIN\\AppData\\Local\\Programs\\Python\\Python310\\lib\\site-packages\\lifelines\\fitters\\coxph_fitter.py:1356: StatisticalWarning: It appears your weights are not integers, possibly propensity or sampling scores then?\n",
      "It's important to know that the naive variance estimates of the coefficients are biased. Instead a) set `robust=True` in the call to `fit`, or b) use Monte Carlo to\n",
      "estimate the variances. See paper \"Variance estimation when using inverse probability of treatment weighting (IPTW) with survival analysis\"\n",
      "\n",
      "  warnings.warn(\n"
     ]
    }
   ],
   "source": [
    "# ---------------------------\n",
    "# 8. Fit Marginal Structural Model (MSM)\n",
    "# ---------------------------\n",
    "def fit_msm(trial, weight_cols, modify_weights):\n",
    "    # Apply the provided modification to weights\n",
    "    weights = trial['data']['weight']\n",
    "    trial['data']['modified_weight'] = modify_weights(weights)\n",
    "    \n",
    "    # Fit a weighted Cox model as a placeholder for MSM fitting\n",
    "    cph = CoxPHFitter()\n",
    "    try:\n",
    "        cph.fit(trial['data'], duration_col='period', event_col='outcome', weights_col='modified_weight')\n",
    "    except Exception as e:\n",
    "        print(\"MSM fitting error:\", e)\n",
    "    trial['msm'] = cph\n",
    "    return trial\n",
    "\n",
    "def winsorize_weights(w):\n",
    "    q99 = np.quantile(w, 0.99)\n",
    "    return np.minimum(w, q99)\n",
    "\n",
    "trial_itt = fit_msm(trial_itt, weight_cols=[\"weight\", \"sample_weight\"], modify_weights=winsorize_weights)\n",
    "\n",
    "print(\"MSM outcome model summary for trial_itt:\")\n",
    "print(trial_itt['msm'].summary)"
   ]
  },
  {
   "cell_type": "markdown",
   "metadata": {},
   "source": [
    "## 9. Predict Survival & Plot Differences\n",
    "\n",
    "Finally, we define a function to predict survival functions using the fitted MSM. We then compute the difference between survival curves for treatment groups and plot these differences along with dummy confidence bounds.\n"
   ]
  },
  {
   "cell_type": "code",
   "execution_count": 37,
   "metadata": {},
   "outputs": [
    {
     "name": "stdout",
     "output_type": "stream",
     "text": [
      "Predicted survival differences head:\n",
      "     followup_time  survival_diff     lower     upper\n",
      "1.0            1.0      -0.000430 -0.000408 -0.000451\n",
      "2.0            2.0      -0.000882 -0.000838 -0.000926\n",
      "3.0            3.0      -0.001219 -0.001158 -0.001280\n",
      "4.0            4.0      -0.001601 -0.001521 -0.001681\n",
      "5.0            5.0      -0.002718 -0.002582 -0.002853\n"
     ]
    },
    {
     "data": {
      "image/png": "[encoded data removed]",
      "text/plain": [
       "<Figure size 640x480 with 1 Axes>"
      ]
     },
     "metadata": {},
     "output_type": "display_data"
    }
   ],
   "source": [
    "def predict_survival(trial, newdata, predict_times):\n",
    "    # Use the fitted Cox model to predict survival functions\n",
    "    cph = trial['msm']\n",
    "    surv_funcs = cph.predict_survival_function(newdata)\n",
    "    \n",
    "    # Compare survival curves by treatment group\n",
    "    treatment_1_idx = newdata[newdata['treatment'] == 1].index\n",
    "    treatment_0_idx = newdata[newdata['treatment'] == 0].index\n",
    "    \n",
    "    surv_t1 = surv_funcs[treatment_1_idx].mean(axis=1)\n",
    "    surv_t0 = surv_funcs[treatment_0_idx].mean(axis=1)\n",
    "    \n",
    "    survival_diff = surv_t1 - surv_t0\n",
    "    # Dummy confidence intervals for illustration\n",
    "    lower_ci = survival_diff * 0.95\n",
    "    upper_ci = survival_diff * 1.05\n",
    "    \n",
    "    return pd.DataFrame({\n",
    "        \"followup_time\": surv_funcs.index,\n",
    "        \"survival_diff\": survival_diff,\n",
    "        \"lower\": lower_ci,\n",
    "        \"upper\": upper_ci\n",
    "    })\n",
    "\n",
    "# Select newdata from the expanded ITT data where period == 1\n",
    "newdata = trial_itt['expansion'][trial_itt['expansion']['period'] == 1]\n",
    "\n",
    "preds = predict_survival(trial_itt, newdata, predict_times=np.arange(0, 11))\n",
    "print('Predicted survival differences head:')\n",
    "print(preds.head())\n",
    "\n",
    "# Plot survival difference and confidence bounds\n",
    "plt.plot(preds[\"followup_time\"], preds[\"survival_diff\"], label=\"Survival Difference\")\n",
    "plt.plot(preds[\"followup_time\"], preds[\"lower\"], linestyle=\"--\", color=\"red\", label=\"2.5% CI\")\n",
    "plt.plot(preds[\"followup_time\"], preds[\"upper\"], linestyle=\"--\", color=\"red\", label=\"97.5% CI\")\n",
    "plt.xlabel(\"Follow up\")\n",
    "plt.ylabel(\"Survival difference\")\n",
    "plt.legend()\n",
    "plt.show()"
   ]
  },
  {
   "cell_type": "markdown",
   "metadata": {},
   "source": [
    "# 1. Predicting Survival Functions\n",
    "What the Code Does:\n",
    "- Model Prediction:\n",
    "The function uses the fitted Cox model (stored in trial['msm']) to generate survival functions for individuals in the provided new data."
   ]
  },
  {
   "cell_type": "markdown",
   "metadata": {
    "vscode": {
     "languageId": "html"
    }
   },
   "source": [
    "`surv_funcs = cph.predict_survival_function(newdata)`"
   ]
  },
  {
   "cell_type": "markdown",
   "metadata": {},
   "source": [
    "The predict_survival_function method returns survival probabilities at various follow-up times (the index of surv_funcs) for each subject."
   ]
  },
  {
   "cell_type": "markdown",
   "metadata": {},
   "source": [
    "- Grouping by Treatment:\n",
    "The new data is split into two groups:\n",
    "\n",
    "  - Treatment = 1:\n",
    "Indices for individuals who received the treatment are selected.\n",
    "`treatment_1_idx = newdata[newdata['treatment'] == 1].index`\n",
    "  - Treatment = 0:\n",
    "Indices for individuals who did not receive the treatment.\n",
    "`treatment_0_idx = newdata[newdata['treatment'] == 0].index`\n",
    "\n",
    "- Averaging Survival Curves:\n",
    "For each treatment group, the survival functions are averaged across individuals:\n",
    "\n",
    "```\n",
    "surv_t1 = surv_funcs[treatment_1_idx].mean(axis=1)\n",
    "surv_t0 = surv_funcs[treatment_0_idx].mean(axis=1)\n",
    "```\n",
    "\n",
    "This yields a mean survival probability at each follow-up time for each group."
   ]
  },
  {
   "cell_type": "markdown",
   "metadata": {},
   "source": [
    "- Computing the Survival Difference:\n",
    "The difference between the average survival probabilities of the two groups is computed:\n",
    "\n",
    "`survival_diff = surv_t1 - surv_t0`\n",
    "\n",
    "A negative difference indicates that the survival probability in the treatment group (1) is lower than that of the control group (0) at that follow-up time."
   ]
  },
  {
   "cell_type": "markdown",
   "metadata": {},
   "source": [
    "- Creating Dummy Confidence Intervals:\n",
    "For illustration, “dummy” confidence intervals are created by scaling the survival difference slightly:\n",
    "\n",
    "`\n",
    "lower_ci = survival_diff * 0.95\n",
    "upper_ci = survival_diff * 1.05\n",
    "`\n",
    "\n",
    "Note: These are not statistically derived intervals. In a real analysis, you would compute confidence bounds using model-based variance estimates or bootstrapping."
   ]
  },
  {
   "cell_type": "markdown",
   "metadata": {},
   "source": [
    "### Output:\n",
    "The function returns a DataFrame with:\n",
    "\n",
    "followup_time: The follow-up times from the survival function index.\n",
    "survival_diff: The difference between the treatment and control average survival probabilities.\n",
    "lower and upper: The dummy confidence bounds for the difference."
   ]
  },
  {
   "cell_type": "markdown",
   "metadata": {},
   "source": [
    "#2. Interpreting the Findings\n",
    "\n",
    "Example Output:\n",
    "\n",
    "The printed output shows the head of the predicted DataFrame:"
   ]
  },
  {
   "cell_type": "markdown",
   "metadata": {},
   "source": [
    "```\n",
    "     followup_time  survival_diff     lower     upper\n",
    "1.0            1.0      -0.000430 -0.000408 -0.000451\n",
    "2.0            2.0      -0.000882 -0.000838 -0.000926\n",
    "3.0            3.0      -0.001219 -0.001158 -0.001280\n",
    "4.0            4.0      -0.001601 -0.001521 -0.001681\n",
    "5.0            5.0      -0.002718 -0.002582 -0.002853\n",
    "```"
   ]
  },
  {
   "cell_type": "markdown",
   "metadata": {},
   "source": [
    "### Insights:\n",
    "- Magnitude and Direction of the Difference:\n",
    "The survival difference values are very small and negative. For instance, at follow-up time 1, the difference is about -0.00043. This indicates that—on average—the survival probability for individuals in the treatment group is slightly lower than for those in the control group. In practical terms, the treatment might be associated with a marginally higher hazard or lower survival, though the differences are minimal here.\n",
    "\n",
    "- Time Trend:\n",
    "As the follow-up time increases (from 1 to 5 in this snippet), the magnitude of the negative difference grows (from -0.00043 to -0.00272). This trend could suggest that the divergence in survival probabilities between the treatment and control groups becomes more pronounced over time. However, given the dummy nature of the data and intervals, this observation is more illustrative than conclusive.\n",
    "\n",
    "- Dummy Confidence Intervals:\n",
    "The confidence bounds (calculated simply by multiplying the difference by 0.95 and 1.05) provide a narrow band around the survival difference.\n",
    "\n",
    "- For instance, at time 1, the interval is from -0.000408 to -0.000451.\n",
    "In a real-world scenario, confidence intervals are crucial for assessing statistical significance. If the interval does not cross zero, it suggests a statistically significant difference. Here, all intervals remain below zero, reinforcing the observation of lower survival in the treatment group—but remember, these intervals are only for demonstration.\n",
    "\n",
    "- Clinical or Practical Significance:\n",
    "Although the differences are statistically very small (as seen by the near-zero differences), in a clinical or practical setting, even small differences might be important depending on the context (e.g., long-term survival outcomes in a high-risk population). In our simulated data, however, these small differences are likely an artifact of the dummy data and weight adjustments.\n",
    "\n",
    "- Model and Weighting Considerations:\n",
    "The predictions stem from a weighted Cox model (the MSM) that accounts for potential confounders using modified weights. The entire pipeline—from weight calculation to survival prediction—demonstrates an approach to handle complex trial data. In a real analysis, you would:\n",
    "  - Validate the weight estimation process,\n",
    "  - Ensure that the model assumptions (like proportional hazards) hold,\n",
    "  - Use robust methods to compute confidence intervals for the survival differences.\n",
    "\n",
    "- Visualization:\n",
    "The plotted graph shows the survival difference over time with its corresponding dummy confidence intervals. This visualization helps in quickly assessing whether the treatment effect (difference in survival) persists, diminishes, or intensifies over time."
   ]
  }
 ],
 "metadata": {
  "kernelspec": {
   "display_name": "Python 3",
   "language": "python",
   "name": "python3"
  },
  "language_info": {
   "codemirror_mode": {
    "name": "ipython",
    "version": 3
   },
   "file_extension": ".py",
   "mimetype": "text/x-python",
   "name": "python",
   "nbconvert_exporter": "python",
   "pygments_lexer": "ipython3",
   "version": "3.10.4"
  }
 },
 "nbformat": 4,
 "nbformat_minor": 2
}
